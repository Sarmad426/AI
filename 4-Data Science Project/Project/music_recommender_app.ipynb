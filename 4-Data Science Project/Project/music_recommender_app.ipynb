{
  "nbformat": 4,
  "nbformat_minor": 0,
  "metadata": {
    "colab": {
      "provenance": []
    },
    "kernelspec": {
      "name": "python3",
      "display_name": "Python 3"
    },
    "language_info": {
      "name": "python"
    }
  },
  "cells": [
    {
      "cell_type": "markdown",
      "source": [
        "## Steps for an ML project\n",
        "\n",
        "1. Import Data\n",
        "2. Clean Data\n",
        "3. Split Data into Training/Test Sets\n",
        "4. Create a Model\n",
        "5. Train a Model\n",
        "6. Make Predictions\n",
        "7. Evaluate and improve\n"
      ],
      "metadata": {
        "id": "EO_HR6aJtC2_"
      }
    },
    {
      "cell_type": "markdown",
      "source": [
        "## Import Data"
      ],
      "metadata": {
        "id": "xgA-eseEF6FA"
      }
    },
    {
      "cell_type": "code",
      "execution_count": null,
      "metadata": {
        "id": "IYVd7gt7chcp"
      },
      "outputs": [],
      "source": [
        "import pandas as pd\n",
        "from sklearn.tree import DecisionTreeClassifier\n",
        "\n",
        "music_data = pd.read_csv('/content/music_data_set.csv')"
      ]
    },
    {
      "cell_type": "markdown",
      "source": [
        "## Clean Data\n",
        "\n",
        "The data in [music_data_set.csv]`./music_data_set.csv` is already being cleaned. Next step is to Split data into Training/Test Sets."
      ],
      "metadata": {
        "id": "tEaQDQuJK56f"
      }
    },
    {
      "cell_type": "markdown",
      "source": [
        "## Split Data into Training/Test Sets\n",
        "\n",
        "Spliting data in two sets. Input set & Output set.\n",
        "\n",
        "- `X` is the input set\n",
        "- `y` is the output set"
      ],
      "metadata": {
        "id": "YaFHf_l3Mjf8"
      }
    },
    {
      "cell_type": "code",
      "source": [
        "# input set\n",
        "X = music_data.drop(columns=['genre'])\n",
        "\n",
        "# output set\n",
        "y = music_data['genre']"
      ],
      "metadata": {
        "id": "7qaldv-evUEp"
      },
      "execution_count": null,
      "outputs": []
    },
    {
      "cell_type": "markdown",
      "source": [
        "## Create a model\n",
        "\n",
        "Choosing a model for the problem. In this case it is `DecisionTree` algorithm from Scikit Learn."
      ],
      "metadata": {
        "id": "Pf5-na5JMv_0"
      }
    },
    {
      "cell_type": "code",
      "source": [
        "model = DecisionTreeClassifier()\n",
        "model.fit(X,y)"
      ],
      "metadata": {
        "colab": {
          "base_uri": "https://localhost:8080/",
          "height": 75
        },
        "id": "xBKyhcP-L6wX",
        "outputId": "57d57b42-4e84-47e5-fa5a-3a13ec6e1cef"
      },
      "execution_count": null,
      "outputs": [
        {
          "output_type": "execute_result",
          "data": {
            "text/plain": [
              "DecisionTreeClassifier()"
            ],
            "text/html": [
              "<style>#sk-container-id-4 {color: black;background-color: white;}#sk-container-id-4 pre{padding: 0;}#sk-container-id-4 div.sk-toggleable {background-color: white;}#sk-container-id-4 label.sk-toggleable__label {cursor: pointer;display: block;width: 100%;margin-bottom: 0;padding: 0.3em;box-sizing: border-box;text-align: center;}#sk-container-id-4 label.sk-toggleable__label-arrow:before {content: \"▸\";float: left;margin-right: 0.25em;color: #696969;}#sk-container-id-4 label.sk-toggleable__label-arrow:hover:before {color: black;}#sk-container-id-4 div.sk-estimator:hover label.sk-toggleable__label-arrow:before {color: black;}#sk-container-id-4 div.sk-toggleable__content {max-height: 0;max-width: 0;overflow: hidden;text-align: left;background-color: #f0f8ff;}#sk-container-id-4 div.sk-toggleable__content pre {margin: 0.2em;color: black;border-radius: 0.25em;background-color: #f0f8ff;}#sk-container-id-4 input.sk-toggleable__control:checked~div.sk-toggleable__content {max-height: 200px;max-width: 100%;overflow: auto;}#sk-container-id-4 input.sk-toggleable__control:checked~label.sk-toggleable__label-arrow:before {content: \"▾\";}#sk-container-id-4 div.sk-estimator input.sk-toggleable__control:checked~label.sk-toggleable__label {background-color: #d4ebff;}#sk-container-id-4 div.sk-label input.sk-toggleable__control:checked~label.sk-toggleable__label {background-color: #d4ebff;}#sk-container-id-4 input.sk-hidden--visually {border: 0;clip: rect(1px 1px 1px 1px);clip: rect(1px, 1px, 1px, 1px);height: 1px;margin: -1px;overflow: hidden;padding: 0;position: absolute;width: 1px;}#sk-container-id-4 div.sk-estimator {font-family: monospace;background-color: #f0f8ff;border: 1px dotted black;border-radius: 0.25em;box-sizing: border-box;margin-bottom: 0.5em;}#sk-container-id-4 div.sk-estimator:hover {background-color: #d4ebff;}#sk-container-id-4 div.sk-parallel-item::after {content: \"\";width: 100%;border-bottom: 1px solid gray;flex-grow: 1;}#sk-container-id-4 div.sk-label:hover label.sk-toggleable__label {background-color: #d4ebff;}#sk-container-id-4 div.sk-serial::before {content: \"\";position: absolute;border-left: 1px solid gray;box-sizing: border-box;top: 0;bottom: 0;left: 50%;z-index: 0;}#sk-container-id-4 div.sk-serial {display: flex;flex-direction: column;align-items: center;background-color: white;padding-right: 0.2em;padding-left: 0.2em;position: relative;}#sk-container-id-4 div.sk-item {position: relative;z-index: 1;}#sk-container-id-4 div.sk-parallel {display: flex;align-items: stretch;justify-content: center;background-color: white;position: relative;}#sk-container-id-4 div.sk-item::before, #sk-container-id-4 div.sk-parallel-item::before {content: \"\";position: absolute;border-left: 1px solid gray;box-sizing: border-box;top: 0;bottom: 0;left: 50%;z-index: -1;}#sk-container-id-4 div.sk-parallel-item {display: flex;flex-direction: column;z-index: 1;position: relative;background-color: white;}#sk-container-id-4 div.sk-parallel-item:first-child::after {align-self: flex-end;width: 50%;}#sk-container-id-4 div.sk-parallel-item:last-child::after {align-self: flex-start;width: 50%;}#sk-container-id-4 div.sk-parallel-item:only-child::after {width: 0;}#sk-container-id-4 div.sk-dashed-wrapped {border: 1px dashed gray;margin: 0 0.4em 0.5em 0.4em;box-sizing: border-box;padding-bottom: 0.4em;background-color: white;}#sk-container-id-4 div.sk-label label {font-family: monospace;font-weight: bold;display: inline-block;line-height: 1.2em;}#sk-container-id-4 div.sk-label-container {text-align: center;}#sk-container-id-4 div.sk-container {/* jupyter's `normalize.less` sets `[hidden] { display: none; }` but bootstrap.min.css set `[hidden] { display: none !important; }` so we also need the `!important` here to be able to override the default hidden behavior on the sphinx rendered scikit-learn.org. See: https://github.com/scikit-learn/scikit-learn/issues/21755 */display: inline-block !important;position: relative;}#sk-container-id-4 div.sk-text-repr-fallback {display: none;}</style><div id=\"sk-container-id-4\" class=\"sk-top-container\"><div class=\"sk-text-repr-fallback\"><pre>DecisionTreeClassifier()</pre><b>In a Jupyter environment, please rerun this cell to show the HTML representation or trust the notebook. <br />On GitHub, the HTML representation is unable to render, please try loading this page with nbviewer.org.</b></div><div class=\"sk-container\" hidden><div class=\"sk-item\"><div class=\"sk-estimator sk-toggleable\"><input class=\"sk-toggleable__control sk-hidden--visually\" id=\"sk-estimator-id-4\" type=\"checkbox\" checked><label for=\"sk-estimator-id-4\" class=\"sk-toggleable__label sk-toggleable__label-arrow\">DecisionTreeClassifier</label><div class=\"sk-toggleable__content\"><pre>DecisionTreeClassifier()</pre></div></div></div></div></div>"
            ]
          },
          "metadata": {},
          "execution_count": 32
        }
      ]
    },
    {
      "cell_type": "markdown",
      "source": [
        "## Train a model\n",
        "\n",
        "This model is already trained on `DecisionTree` algorithm."
      ],
      "metadata": {
        "id": "sjvUacXVNepH"
      }
    },
    {
      "cell_type": "markdown",
      "source": [
        "## Make Predictions"
      ],
      "metadata": {
        "id": "DYfyqGKhNzLV"
      }
    },
    {
      "cell_type": "code",
      "source": [
        "# Checking for 21 year male and 22 year female\n",
        "\n",
        "prediction = model.predict([ [21,1], [22,0] ])\n",
        "\n",
        "prediction"
      ],
      "metadata": {
        "colab": {
          "base_uri": "https://localhost:8080/"
        },
        "id": "DY7WuB5pN1Wj",
        "outputId": "d2f233e4-c921-4d36-dcb4-ce26ac17380a"
      },
      "execution_count": 45,
      "outputs": [
        {
          "output_type": "stream",
          "name": "stderr",
          "text": [
            "/usr/local/lib/python3.10/dist-packages/sklearn/base.py:439: UserWarning: X does not have valid feature names, but DecisionTreeClassifier was fitted with feature names\n",
            "  warnings.warn(\n"
          ]
        },
        {
          "output_type": "execute_result",
          "data": {
            "text/plain": [
              "array(['Electronic', 'Classical'], dtype=object)"
            ]
          },
          "metadata": {},
          "execution_count": 45
        }
      ]
    },
    {
      "cell_type": "markdown",
      "source": [
        "## Calculating Model accuracy"
      ],
      "metadata": {
        "id": "dAnmyP213sNP"
      }
    },
    {
      "cell_type": "code",
      "source": [
        "from sklearn.model_selection import train_test_split\n",
        "from sklearn.metrics import accuracy_score\n",
        "\n",
        "# Spliting data into training (80%) and testing (20%)\n",
        "X_train, X_test, y_train, y_test = train_test_split(X, y, test_size=0.2)\n",
        "\n",
        "# X_train, X_test are the input sets for training & testing\n",
        "# y_train, y_test are the output sets\n",
        "\n",
        "# passing only the training data set\n",
        "model.fit(X_train, y_train)\n",
        "\n",
        "# Passing testing data set\n",
        "predictions = model.predict(X_test)\n",
        "\n",
        "# Calculating accuracy score\n",
        "score = accuracy_score(y_test, predictions)\n",
        "\n",
        "score"
      ],
      "metadata": {
        "colab": {
          "base_uri": "https://localhost:8080/"
        },
        "id": "Ks0WOY2S3v2n",
        "outputId": "02e1467d-5a23-4396-ab62-8cb54fb8e960"
      },
      "execution_count": 40,
      "outputs": [
        {
          "output_type": "execute_result",
          "data": {
            "text/plain": [
              "0.0"
            ]
          },
          "metadata": {},
          "execution_count": 40
        }
      ]
    },
    {
      "cell_type": "markdown",
      "source": [
        "## Persisting Models"
      ],
      "metadata": {
        "id": "4kVq0ZOyU25J"
      }
    },
    {
      "cell_type": "code",
      "source": [
        "import joblib\n",
        "\n",
        "# Persisting the model\n",
        "joblib.dump(model,'music_recommender.joblib')"
      ],
      "metadata": {
        "id": "vyFtnuRDU_v_",
        "colab": {
          "base_uri": "https://localhost:8080/"
        },
        "outputId": "94a4599c-0ed9-4255-865d-ba07295f85ed"
      },
      "execution_count": 43,
      "outputs": [
        {
          "output_type": "execute_result",
          "data": {
            "text/plain": [
              "['music_recommender.joblib']"
            ]
          },
          "metadata": {},
          "execution_count": 43
        }
      ]
    },
    {
      "cell_type": "code",
      "source": [
        "# loading the persisted model\n",
        "model = joblib.load('/content/music_recommender.joblib')\n",
        "\n",
        "# calculating predictions based on loaded model\n",
        "prediction = model.predict([ [21,1], [22,0] ])\n",
        "\n",
        "prediction"
      ],
      "metadata": {
        "colab": {
          "base_uri": "https://localhost:8080/"
        },
        "id": "XT2LeN7iXiCd",
        "outputId": "d6528219-b422-4ff2-fa22-4cb62f9b2b26"
      },
      "execution_count": 47,
      "outputs": [
        {
          "output_type": "stream",
          "name": "stderr",
          "text": [
            "/usr/local/lib/python3.10/dist-packages/sklearn/base.py:439: UserWarning: X does not have valid feature names, but DecisionTreeClassifier was fitted with feature names\n",
            "  warnings.warn(\n"
          ]
        },
        {
          "output_type": "execute_result",
          "data": {
            "text/plain": [
              "array(['Electronic', 'Classical'], dtype=object)"
            ]
          },
          "metadata": {},
          "execution_count": 47
        }
      ]
    },
    {
      "cell_type": "markdown",
      "source": [
        "# Visualizing Decision trees"
      ],
      "metadata": {
        "id": "vXhisMexZZmm"
      }
    },
    {
      "cell_type": "code",
      "source": [
        "from sklearn import tree\n",
        "\n",
        "tree.export_graphviz(\n",
        "    model,\n",
        "    out_file='music_recommender.dot',\n",
        "    feature_names=['age','gender'],\n",
        "    class_names=sorted(y.unique()),\n",
        "    label='all',\n",
        "    rounded = True,\n",
        "    filled = True\n",
        "    )"
      ],
      "metadata": {
        "id": "P9J40tZRZfmT"
      },
      "execution_count": 51,
      "outputs": []
    },
    {
      "cell_type": "markdown",
      "source": [
        "Visualizing Decision Tree and the ouput file is `music_recommender.dot`.\n",
        "\n",
        "## function arguments explanation\n",
        "- `out_file` the output file.\n",
        "\n",
        "- `feature_names=['age','gender']` Add age and gender in dot output.\n",
        "\n",
        "`class_names=sorted(y.unique())` Sorted Unique genre values (music type)\n",
        "\n",
        "- `label='all'` Display the labels to each box\n",
        "\n",
        "- `rounded = True` Display boxes in round shape\n",
        "\n",
        "- `filled = True` fill each box with color."
      ],
      "metadata": {
        "id": "M0gthoBdgAwI"
      }
    }
  ]
}